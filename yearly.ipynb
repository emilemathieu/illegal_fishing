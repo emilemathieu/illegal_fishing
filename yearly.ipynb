{
 "cells": [
  {
   "cell_type": "code",
   "execution_count": null,
   "metadata": {},
   "outputs": [],
   "source": [
    "import arviz as az\n",
    "import matplotlib.pyplot as plt\n",
    "import numpy as np\n",
    "\n",
    "import pymc3 as pm\n",
    "from pymc3 import  *"
   ]
  },
  {
   "cell_type": "code",
   "execution_count": null,
   "metadata": {},
   "outputs": [],
   "source": [
    "az.style.use('arviz-darkgrid')"
   ]
  },
  {
   "cell_type": "code",
   "execution_count": null,
   "metadata": {},
   "outputs": [],
   "source": [
    "# Value (in chilean pesos) of the permit that traders pay to fishers per legal unit\n",
    "visa = 3000    \n",
    "\n",
    "# Prior for landings (total units landed each year, considering legal and illegal)\n",
    "quota = 3200000. / 27.  # 3200 ton quota in 2018. Divided in 27 because \"units\" are 27 kg boxes\n",
    "\n",
    "# Other fix parameters needed for the model\n",
    "wbox = 5000    # Illegal price of reference at the port per unit: This comes from my fieldwork 1\n",
    "pbox = 17000   # Illegal price of reference at market per unit: This comes from my fieldwork 2\n",
    "fb = 9.2e+05   # Fine expected per box, from chilean law\n",
    "\n",
    "daysop = 200\n",
    "ppmax = 6000   # Price premium higher limit (unrealistically high)\n",
    "DR = 5e-05     # This comes from enforcement records data, probability of detection per box\n",
    "Dmax = 3 * DR  # Detectability higher limit\n",
    "\n",
    "# TODO shouldn't nmin be 3*quota?\n",
    "nmin = quota / daysop  # Landings lower limit: 3X the legal quota is from one of our papers\n",
    "\n",
    "nmax = (27000000. / 27.) / daysop  # Landings higher limit: 27,4K ton is from our paper as well\n",
    "wl = wbox + visa  # Here, I add elasticity of demand at the port for legal, based on previous and current catch\n",
    "wi = wbox         # Here, I add elasticity of demand at the port for illegal, based on previous and current catch\n",
    "Pi = pbox         # Same but at the market based on illegal captures previous year\n",
    "\n",
    "sigma = quota * (10. / 100.) / 3.  # solves 3 * sigma = 10% quota since with P(|x-mu|<3*sigma)=99.73"
   ]
  },
  {
   "cell_type": "code",
   "execution_count": null,
   "metadata": {},
   "outputs": [],
   "source": [
    "with Model() as model: # model specifications in PyMC3 are wrapped in a with-statement\n",
    "    # Define priors\n",
    "    pp = Uniform('pp', 0., ppmax)\n",
    "    D = Uniform('D', 0., Dmax)  # would gamma prior be better?\n",
    "    nR = Uniform('nR', nmin, nmax)\n",
    "    \n",
    "    # Model for one time period\n",
    "    pl = pbox + pp  # same but at the market based on legal captures previous year\n",
    "    # Function 6 in draft, calculates the optimal quantity of illegal units. Divided by 100 to convert to ratio\n",
    "    x=((((Pi - wi - pl + wl - (fb * D)) / (8 * D * pl)))) / 100.  # Illegal units\n",
    "    l = 1 - x;  # legal units\n",
    "    # Calculates the total (for a year)\n",
    "    totallegal = (nR * l) * daysop\n",
    "    \n",
    "    # if we want to be able to plot posterior distributions over these intermediate variables we have to do this\n",
    "    pl = pm.Deterministic('pl', pl)\n",
    "    x = pm.Deterministic('x', x)\n",
    "    totallegal = pm.Deterministic('totallegal', totallegal)\n",
    "\n",
    "    # Define likelihood\n",
    "    likelihood = Normal('quota', mu=totallegal, sigma=sigma, \n",
    "                        observed=quota)\n",
    "\n",
    "    # Inference!\n",
    "    trace = sample(draws=11000, tune=2000, chains=4, cores=4, target_accept=0.95) # draw 11000 posterior samples using NUTS sampling"
   ]
  },
  {
   "cell_type": "code",
   "execution_count": null,
   "metadata": {},
   "outputs": [],
   "source": [
    "plt.figure(figsize=(7, 7))\n",
    "traceplot(trace)\n",
    "plt.tight_layout();"
   ]
  },
  {
   "cell_type": "code",
   "execution_count": null,
   "metadata": {},
   "outputs": [],
   "source": []
  }
 ],
 "metadata": {},
 "nbformat": 4,
 "nbformat_minor": 4
}
