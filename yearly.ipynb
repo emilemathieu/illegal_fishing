{
  "nbformat": 4,
  "nbformat_minor": 0,
  "metadata": {
    "colab": {
      "name": "yearly.ipynb",
      "provenance": []
    },
    "kernelspec": {
      "name": "python3",
      "display_name": "Python 3"
    }
  },
  "cells": [
    {
      "cell_type": "code",
      "metadata": {
        "id": "CVcUhAWTYMn4"
      },
      "source": [
        "# which versions?\n",
        "%%bash\n",
        "\n",
        "cat > requirements.txt << EOF\n",
        "numpy\n",
        "matplotlib\n",
        "scipy\n",
        "pymc3>=3.8\n",
        "arviz\n",
        "pandas\n",
        "EOF\n",
        "\n",
        "pip install -r requirements.txt"
      ],
      "execution_count": null,
      "outputs": []
    },
    {
      "cell_type": "code",
      "metadata": {
        "id": "IKWuuQ7uYR2J"
      },
      "source": [
        "import arviz as az\n",
        "import matplotlib.pyplot as plt\n",
        "import numpy as np\n",
        "\n",
        "import theano\n",
        "from theano.ifelse import ifelse\n",
        "from theano import tensor\n",
        "\n",
        "import pymc3 as pm\n",
        "from pymc3 import  *"
      ],
      "execution_count": null,
      "outputs": []
    },
    {
      "cell_type": "code",
      "metadata": {
        "id": "5mbiWTWqYMn4"
      },
      "source": [
        "az.style.use('arviz-darkgrid')"
      ],
      "execution_count": null,
      "outputs": []
    },
    {
      "cell_type": "code",
      "metadata": {
        "id": "9evx4fhyYMn4"
      },
      "source": [
        "# Value (in chilean pesos) of the permit that traders pay to fishers per legal unit\n",
        "visa = 3000.    \n",
        "C_i = 5000.       # Illegal price of reference at the port per unit: This comes from my fieldwork 1\n",
        "C_l = C_i + visa  # Elasticity of demand at the port for legal, based on previous and current catch\n",
        "# C_i = C_i       # Elasticity of demand at the port for illegal, based on previous and current catch\n",
        "\n",
        "f = 9.2e+05  # Fine expected per box, from chilean law\n",
        "\n",
        "# Days of operation\n",
        "daysop = 200.\n",
        "\n",
        "# beta is price_premium, i.e. how much more expensive legal than illegal price is, \n",
        "# P_l = P_i + beta\n",
        "P_i = 17000.  # Illegal price of reference at market per unit: This comes from my fieldwork 2\n",
        "beta_min = 0.\n",
        "beta_max = 6000.  # unrealistically high higher limit\n",
        "\n",
        "# Probability of detection per box\n",
        "# The number 5e-05 comes from the enforcement records data, \n",
        "theta_min = 0.\n",
        "theta_max = 3 * 5e-05\n",
        "\n",
        "# Prior for landings (total units landed each year, considering legal and illegal)\n",
        "quota = 3200000. / 27.  # 3200 ton quota in 2018. Divided in 27 because \"units\" are 27 kg boxes\n",
        "# TODO shouldn't nmin be 3*quota?\n",
        "T_min = quota / daysop  # Landings lower limit: 3X the legal quota is from one of our papers\n",
        "T_max = (27000000. / 27.) / daysop  # Landings higher limit: 27,4K ton is from our paper as well\n",
        "\n",
        "sigma = quota * (10. / 100.) / 3.  # solves 3 * sigma = 10% quota since with P(|x-mu|<3*sigma)=99.73"
      ],
      "execution_count": null,
      "outputs": []
    },
    {
      "cell_type": "code",
      "metadata": {
        "id": "Nqe-rCivYMn4"
      },
      "source": [
        "class MyModel(pm.Model):\n",
        "    def __init__(self, name='', model=None):\n",
        "        super().__init__(name, model)\n",
        "        \n",
        "        # Define priors\n",
        "        beta = Uniform('beta', beta_min, beta_max)\n",
        "        theta = Uniform('theta', theta_min, theta_max)  # Emile: have a mean from enforcement data, should use that (e.g. Gamma prior)\n",
        "        T = Uniform('T', T_min, T_max)\n",
        "\n",
        "        # Model for one time period\n",
        "        P_l = P_i + beta\n",
        "        # Function 6 in draft, calculates the optimal quantity of illegal units. Divided by 100 to convert to ratio\n",
        "        # x_i = ((((P_i - wi - pl + wl - (fb * D)) / (8 * D * pl)))) / 100.  # Illegal units\n",
        "        x_i_possibly_out_of_bounds = (P_i - C_i - (f * theta) - P_l + C_l) / (2 * theta * P_l)\n",
        "        x_i_not_negative = theano.ifelse.ifelse(tensor.lt(x_i_possibly_out_of_bounds, 0.), \n",
        "                                                0. * x_i_possibly_out_of_bounds, \n",
        "                                                x_i_possibly_out_of_bounds)\n",
        "        x_i = theano.ifelse.ifelse(tensor.gt(x_i_not_negative, T), \n",
        "                                   T, \n",
        "                                   x_i_not_negative)\n",
        "        x_l = T - x_i\n",
        "        # Calculates the total (for a year)\n",
        "        T_per_year = T * daysop\n",
        "        x_l_per_year = x_l * daysop\n",
        "\n",
        "        # if we want to be able to plot posterior distributions over these intermediate variables we have to do this\n",
        "        P_l = pm.Deterministic('P_l', P_l)\n",
        "        x_i = pm.Deterministic('x_i', x_i)\n",
        "        x_l = pm.Deterministic('x_l', x_l)\n",
        "        T_per_year = pm.Deterministic('T_per_year', T_per_year)\n",
        "        x_l_per_year = pm.Deterministic('x_l_per_year', x_l_per_year)\n",
        "\n",
        "        # Define likelihood\n",
        "        likelihood = Normal('quota', mu=T_per_year, sigma=sigma, observed=quota)  # Emile: are we not observing \"landings\", i.e x_l * dayopt ?\n",
        "\n",
        "mymodel = MyModel()"
      ],
      "execution_count": null,
      "outputs": []
    },
    {
      "cell_type": "code",
      "metadata": {
        "id": "veSNuNlV2Rik"
      },
      "source": [
        "with Model() as model:\n",
        "    MyModel()\n",
        "    \n",
        "    # Inference\n",
        "    # Draw 11000 posterior samples using NUTS\n",
        "    trace = sample(draws=11000, chains=2, cores=1)# tune=1000, chains=4, cores=4, target_accept=0.95) # not running in parallel?"
      ],
      "execution_count": null,
      "outputs": []
    },
    {
      "cell_type": "code",
      "metadata": {
        "id": "rJhkxFlMvUMk"
      },
      "source": [
        "# observations\n",
        "yearly_landings = [103615.0, 100472.0, 101905.7,  88051.0,  90643.0,  82931.0]\n",
        "sigma = np.std(yearly_landings)\n",
        "\n",
        "# Prior\n",
        "T_min = min(yearly_landings)  # Emile: seems legit\n",
        "T_max = 3 * max(yearly_landings). # Emile: seems legit\n",
        "\n",
        "\"\"\"Emile:\n",
        "1/ The observations (landings) are the (weekly / yearly) LEGAL units\n",
        "- a/ Shouldn't we put a prior on x_i, solve for the optimal x_l \n",
        "and observe x_l or x_l + x_i?\n",
        "- since x_l -> Profit(x_l) is linear, depending on the sign of the slope, the optimum\n",
        "would either be x_l^* = 0 or x_l^* = capacity - x_i\n",
        "- b/ If we observe x_l + x_i, similarly we could put a prior on x_l, and solve for x_i\n",
        "Since x_i -> Profit(x_i) is quadratic with negative coefficient its stationary point is a local maximum\n",
        "the optimal would then be x_i^* = max(0, min(argmax Profit(x_i), capacity - x_l))\n",
        "\"\"\"\n",
        "\n",
        "class YearlyLandings(pm.Model):\n",
        "    def __init__(self, name='', model=None):\n",
        "        super().__init__(name, model)\n",
        "        \n",
        "        # Define priors\n",
        "        beta = Uniform('beta', beta_min, beta_max)\n",
        "        theta = Uniform('theta', theta_min, theta_max)\n",
        "        T = Uniform('T', T_min, T_max)\n",
        "\n",
        "        # Model for one time period\n",
        "        P_l = P_i + beta\n",
        "        # Function 6 in draft, calculates the optimal quantity of illegal units. Divided by 100 to convert to ratio\n",
        "        # x_i = ((((P_i - wi - pl + wl - (fb * D)) / (8 * D * pl)))) / 100.  # Illegal units\n",
        "        x_i_possibly_out_of_bounds = (P_i - C_i - (f * theta) - P_l + C_l) / (theta * P_l) # Emile: why this 2?\n",
        "        x_i_not_negative = ifelse(tensor.lt(x_i_possibly_out_of_bounds, 0.), 0. * x_i_possibly_out_of_bounds, x_i_possibly_out_of_bounds)\n",
        "        x_i = ifelse(tensor.gt(x_i_not_negative, T), T, x_i_not_negative)\n",
        "        x_i = x_i # should multiply by 5 * nb_of_weeks??  (nb_of_weeks = 49)\n",
        "        x_l = T - x_i\n",
        "        r = x_i / T\n",
        "\n",
        "        # Save variables\n",
        "        P_l = pm.Deterministic('P_l', P_l)\n",
        "        x_i = pm.Deterministic('x_i', x_i)\n",
        "        x_l = pm.Deterministic('x_l', x_l)\n",
        "        r = pm.Deterministic('r', r)\n",
        "\n",
        "        # Define likelihood\n",
        "        likelihood = Normal('landings', mu=x_l, sigma=sigma, observed=yearly_landings, shape=(len(yearly_landings),))\n",
        "\n",
        "mymodel = YearlyLandings()"
      ],
      "execution_count": null,
      "outputs": []
    },
    {
      "cell_type": "code",
      "metadata": {
        "id": "o6kARB10YMn4"
      },
      "source": [
        "with Model() as model:\n",
        "    YearlyLandings()\n",
        "    \n",
        "    # Inference\n",
        "    # Draw 11000 posterior samples using NUTS\n",
        "    trace = sample(draws=4000, chains=2, cores=2, target_accept=0.9)# "
      ],
      "execution_count": null,
      "outputs": []
    },
    {
      "cell_type": "markdown",
      "metadata": {
        "id": "4T9lw_qXYMn4"
      },
      "source": [
        "# Prior predictive check"
      ]
    },
    {
      "cell_type": "code",
      "metadata": {
        "id": "zfNRUOVZYMn4"
      },
      "source": [
        "prior_checks = sample_prior_predictive(samples=10000, random_seed=0, model=mymodel)\n",
        "#traceplot(prior_checks)\n",
        "# traceplot({k: prior_checks[k] for k in ('x_i', 'x_l')})\n",
        "traceplot({k: prior_checks[k] for k in ('r', 'T', 'x_i', 'x_l')})"
      ],
      "execution_count": null,
      "outputs": []
    },
    {
      "cell_type": "markdown",
      "metadata": {
        "id": "2Nb2761nYMn5"
      },
      "source": [
        "# Posterior inference"
      ]
    },
    {
      "cell_type": "code",
      "metadata": {
        "id": "2-DCbepIYMn5"
      },
      "source": [
        "plt.figure(figsize=(7, 7))\n",
        "traceplot(trace)\n",
        "plt.tight_layout();"
      ],
      "execution_count": null,
      "outputs": []
    },
    {
      "cell_type": "markdown",
      "metadata": {
        "id": "IsZc3TAIYMn5"
      },
      "source": [
        "# Some debugging"
      ]
    },
    {
      "cell_type": "code",
      "metadata": {
        "id": "DsVNDRCNYMn5"
      },
      "source": [
        "beta = 1000\n",
        "theta = 5e-05\n",
        "T = T_min\n",
        "\n",
        "# Model for one time period\n",
        "P_l = P_i + beta\n",
        "# Function 6 in draft, calculates the optimal quantity of illegal units. Divided by 100 to convert to ratio\n",
        "# x_i = ((((P_i - wi - pl + wl - (fb * D)) / (8 * D * pl)))) / 100.  # Illegal units\n",
        "x_i = (P_i - C_i - f * theta - P_l + C_l) / (-2. * theta * P_l)\n",
        "\n",
        "if x_i < 0:\n",
        "    x_i = 0.\n",
        "elif x_i > 0:\n",
        "    x_i = T\n",
        "x_l = T - x_i\n",
        "\n",
        "# Calculates the total (for a year)\n",
        "T_per_year = T * daysop\n",
        "\n",
        "P_l, x_i, x_l, T_per_year"
      ],
      "execution_count": null,
      "outputs": []
    },
    {
      "cell_type": "code",
      "metadata": {
        "id": "SW6eFAnCYMn5"
      },
      "source": [
        "N = 10\n",
        "samples = sample_prior_predictive(samples=N, random_seed=0, model=mymodel)\n",
        "\n",
        "for i in range(N):\n",
        "    theta,P_l,T = tuple(samples[k][i] for k in ('theta,P_l,T'.split(',')))\n",
        "    \n",
        "    x_range = 10000\n",
        "    x_i = np.linspace(-x_range, x_range, 1000)\n",
        "    x_l = T - x_i\n",
        "    y = (P_i - C_i)*x_i - (theta * x_i * (P_l * x_i + f)) + (P_l - C_l)*x_l\n",
        "    \n",
        "    x_i_opt = (P_i - C_i - f * theta - P_l + C_l) / (2. * theta * P_l)\n",
        "\n",
        "    plt.plot(x_i, y)\n",
        "    plt.axvline(0., color='k')\n",
        "    plt.axvline(T, color='k')\n",
        "    plt.axvline(x_i_opt, color='r')\n",
        "    plt.show()"
      ],
      "execution_count": null,
      "outputs": []
    },
    {
      "cell_type": "code",
      "metadata": {
        "id": "KxTkdliiYMn5"
      },
      "source": [
        ""
      ],
      "execution_count": null,
      "outputs": []
    }
  ]
}